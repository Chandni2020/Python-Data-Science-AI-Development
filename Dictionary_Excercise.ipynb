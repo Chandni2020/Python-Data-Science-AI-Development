{
 "cells": [
  {
   "cell_type": "code",
   "execution_count": 1,
   "id": "96e57d06",
   "metadata": {},
   "outputs": [],
   "source": [
    "#Q1 Create a dictionary for all participants in the JDA program.\n",
    "#Keys should be the first letter in their names, Values should \n",
    "#be their names.\n",
    "#[Hint] dic={\"l\":(Leul),\"J\":(Jerry,Jainam)........}"
   ]
  },
  {
   "cell_type": "code",
   "execution_count": 2,
   "id": "7313b07a",
   "metadata": {},
   "outputs": [],
   "source": [
    "dic = {'C':('Chandni'), \"I\": ('Ishwarya'), \"M\": ('Maheshwari'), 'T':('Taumeca'), 'W':('William')}"
   ]
  },
  {
   "cell_type": "code",
   "execution_count": 3,
   "id": "28faef0a",
   "metadata": {},
   "outputs": [
    {
     "data": {
      "text/plain": [
       "{'C': 'Chandni',\n",
       " 'I': 'Ishwarya',\n",
       " 'M': 'Maheshwari',\n",
       " 'T': 'Taumeca',\n",
       " 'W': 'William'}"
      ]
     },
     "execution_count": 3,
     "metadata": {},
     "output_type": "execute_result"
    }
   ],
   "source": [
    "dic"
   ]
  },
  {
   "cell_type": "code",
   "execution_count": 4,
   "id": "db4c2fab",
   "metadata": {},
   "outputs": [],
   "source": [
    "#Q2 What are the keys of your dictionary"
   ]
  },
  {
   "cell_type": "code",
   "execution_count": 5,
   "id": "b12de153",
   "metadata": {},
   "outputs": [
    {
     "data": {
      "text/plain": [
       "dict_keys(['C', 'I', 'M', 'T', 'W'])"
      ]
     },
     "execution_count": 5,
     "metadata": {},
     "output_type": "execute_result"
    }
   ],
   "source": [
    "dic.keys()"
   ]
  },
  {
   "cell_type": "code",
   "execution_count": 6,
   "id": "9dc6911d",
   "metadata": {},
   "outputs": [],
   "source": [
    "#Q3 What are the values of your dictionary"
   ]
  },
  {
   "cell_type": "code",
   "execution_count": 7,
   "id": "ff81d385",
   "metadata": {},
   "outputs": [
    {
     "data": {
      "text/plain": [
       "dict_values(['Chandni', 'Ishwarya', 'Maheshwari', 'Taumeca', 'William'])"
      ]
     },
     "execution_count": 7,
     "metadata": {},
     "output_type": "execute_result"
    }
   ],
   "source": [
    "dic.values()"
   ]
  },
  {
   "cell_type": "code",
   "execution_count": 8,
   "id": "8418e51b",
   "metadata": {},
   "outputs": [],
   "source": [
    "#Q4 Find participant's names that start with J,I,M,C,A"
   ]
  },
  {
   "cell_type": "code",
   "execution_count": 9,
   "id": "c4b3a3ab",
   "metadata": {},
   "outputs": [],
   "source": [
    "#Q5 Add the following to your dictionary\n",
    "# Key<(K,PD)>, Value<(Kristina)>"
   ]
  },
  {
   "cell_type": "code",
   "execution_count": 10,
   "id": "053e6722",
   "metadata": {},
   "outputs": [],
   "source": [
    "dic.update({'K,PD':'Kristina'})"
   ]
  },
  {
   "cell_type": "code",
   "execution_count": 11,
   "id": "5801cce4",
   "metadata": {},
   "outputs": [
    {
     "data": {
      "text/plain": [
       "{'C': 'Chandni',\n",
       " 'I': 'Ishwarya',\n",
       " 'M': 'Maheshwari',\n",
       " 'T': 'Taumeca',\n",
       " 'W': 'William',\n",
       " 'K,PD': 'Kristina'}"
      ]
     },
     "execution_count": 11,
     "metadata": {},
     "output_type": "execute_result"
    }
   ],
   "source": [
    "dic"
   ]
  },
  {
   "cell_type": "code",
   "execution_count": 12,
   "id": "26b4f2ed",
   "metadata": {},
   "outputs": [
    {
     "data": {
      "text/plain": [
       "dict_keys(['C', 'I', 'M', 'T', 'W', 'K,PD'])"
      ]
     },
     "execution_count": 12,
     "metadata": {},
     "output_type": "execute_result"
    }
   ],
   "source": [
    "dic.keys()"
   ]
  },
  {
   "cell_type": "code",
   "execution_count": 13,
   "id": "6f870401",
   "metadata": {},
   "outputs": [],
   "source": [
    "#Q6 Find the length of your dictionary"
   ]
  },
  {
   "cell_type": "code",
   "execution_count": 14,
   "id": "ef63c139",
   "metadata": {},
   "outputs": [
    {
     "data": {
      "text/plain": [
       "6"
      ]
     },
     "execution_count": 14,
     "metadata": {},
     "output_type": "execute_result"
    }
   ],
   "source": [
    "len(dic)"
   ]
  },
  {
   "cell_type": "code",
   "execution_count": 15,
   "id": "971f5e0c",
   "metadata": {},
   "outputs": [],
   "source": [
    "#Q7 Add the following to your dictionary\n",
    "# Key<(S,Instructor)>, Value<(Sarah)>"
   ]
  },
  {
   "cell_type": "code",
   "execution_count": 16,
   "id": "a53fdf30",
   "metadata": {},
   "outputs": [],
   "source": [
    "dic.update({'S,Instructor':('Sarah')})"
   ]
  },
  {
   "cell_type": "code",
   "execution_count": 17,
   "id": "ea3d7dc0",
   "metadata": {},
   "outputs": [
    {
     "data": {
      "text/plain": [
       "{'C': 'Chandni',\n",
       " 'I': 'Ishwarya',\n",
       " 'M': 'Maheshwari',\n",
       " 'T': 'Taumeca',\n",
       " 'W': 'William',\n",
       " 'K,PD': 'Kristina',\n",
       " 'S,Instructor': 'Sarah'}"
      ]
     },
     "execution_count": 17,
     "metadata": {},
     "output_type": "execute_result"
    }
   ],
   "source": [
    "dic"
   ]
  },
  {
   "cell_type": "code",
   "execution_count": 18,
   "id": "bf4d2ed8",
   "metadata": {},
   "outputs": [],
   "source": [
    "#Q9 Find the length of your dictionary"
   ]
  },
  {
   "cell_type": "code",
   "execution_count": 19,
   "id": "11dc55e5",
   "metadata": {},
   "outputs": [
    {
     "data": {
      "text/plain": [
       "7"
      ]
     },
     "execution_count": 19,
     "metadata": {},
     "output_type": "execute_result"
    }
   ],
   "source": [
    "len(dic)"
   ]
  },
  {
   "cell_type": "code",
   "execution_count": 20,
   "id": "ef2f429a",
   "metadata": {},
   "outputs": [],
   "source": [
    "#Q10 Create a new dictionary called synonyms_dic"
   ]
  },
  {
   "cell_type": "code",
   "execution_count": 21,
   "id": "95e96e6f",
   "metadata": {},
   "outputs": [],
   "source": [
    "synonyms_dic = {}"
   ]
  },
  {
   "cell_type": "code",
   "execution_count": 22,
   "id": "3173e364",
   "metadata": {},
   "outputs": [],
   "source": [
    "#Q11 Add the synonyms of the following words to your dictionary\n",
    "#Bad, Good, Awesome, Cold, Easy, Hard, Big, Small"
   ]
  },
  {
   "cell_type": "code",
   "execution_count": 23,
   "id": "17b0133b",
   "metadata": {},
   "outputs": [
    {
     "data": {
      "text/plain": [
       "{'Bad': 'awful',\n",
       " 'Good': 'fine',\n",
       " 'Awesome': 'amazing',\n",
       " 'Cold': 'freezing',\n",
       " 'Easy': 'simple',\n",
       " 'Hard': 'Tough',\n",
       " 'Big': 'Giant',\n",
       " 'Small': 'Tiny'}"
      ]
     },
     "execution_count": 23,
     "metadata": {},
     "output_type": "execute_result"
    }
   ],
   "source": [
    "synonyms_dic = {'Bad':'awful', 'Good': 'fine', 'Awesome':'amazing' , 'Cold': 'freezing', 'Easy': 'simple', 'Hard': 'Tough', 'Big': 'Giant', 'Small': 'Tiny' }\n",
    "synonyms_dic"
   ]
  },
  {
   "cell_type": "code",
   "execution_count": 24,
   "id": "dee0a42f",
   "metadata": {},
   "outputs": [],
   "source": [
    "#Q12 Use your dictionary to find the synonym of the following words\n",
    "# Awesome, Easy, Small, Cold"
   ]
  },
  {
   "cell_type": "code",
   "execution_count": 25,
   "id": "dc183fd7",
   "metadata": {},
   "outputs": [
    {
     "data": {
      "text/plain": [
       "dict_keys(['Bad', 'Good', 'Awesome', 'Cold', 'Easy', 'Hard', 'Big', 'Small'])"
      ]
     },
     "execution_count": 25,
     "metadata": {},
     "output_type": "execute_result"
    }
   ],
   "source": [
    "synonyms_dic.keys()"
   ]
  },
  {
   "cell_type": "code",
   "execution_count": 26,
   "id": "b0bb6d06",
   "metadata": {},
   "outputs": [
    {
     "data": {
      "text/plain": [
       "dict_values(['awful', 'fine', 'amazing', 'freezing', 'simple', 'Tough', 'Giant', 'Tiny'])"
      ]
     },
     "execution_count": 26,
     "metadata": {},
     "output_type": "execute_result"
    }
   ],
   "source": [
    "synonyms_dic.values()"
   ]
  },
  {
   "cell_type": "code",
   "execution_count": 27,
   "id": "0251b671",
   "metadata": {},
   "outputs": [
    {
     "data": {
      "text/plain": [
       "'amazing'"
      ]
     },
     "execution_count": 27,
     "metadata": {},
     "output_type": "execute_result"
    }
   ],
   "source": [
    "synonyms_dic['Awesome'] # to get individual key value"
   ]
  },
  {
   "cell_type": "code",
   "execution_count": 28,
   "id": "cd30047d",
   "metadata": {},
   "outputs": [
    {
     "name": "stdout",
     "output_type": "stream",
     "text": [
      "simple\n"
     ]
    }
   ],
   "source": [
    "print(synonyms_dic.get('Easy')) #.get here is used to get individual key value"
   ]
  },
  {
   "cell_type": "code",
   "execution_count": 30,
   "id": "3b7a5a8d",
   "metadata": {},
   "outputs": [
    {
     "data": {
      "text/plain": [
       "'freezing'"
      ]
     },
     "execution_count": 30,
     "metadata": {},
     "output_type": "execute_result"
    }
   ],
   "source": [
    "synonyms_dic['Awesome']\n",
    "synonyms_dic['Easy']\n",
    "synonyms_dic['Small']\n",
    "synonyms_dic['Cold'] #this command will work only for the last one......"
   ]
  },
  {
   "cell_type": "code",
   "execution_count": 31,
   "id": "fa3b88c5",
   "metadata": {},
   "outputs": [
    {
     "name": "stdout",
     "output_type": "stream",
     "text": [
      "amazing\n",
      "simple\n",
      "Tiny\n",
      "freezing\n"
     ]
    }
   ],
   "source": [
    "print(synonyms_dic.get('Awesome'))\n",
    "print(synonyms_dic.get('Easy'))\n",
    "print(synonyms_dic.get('Small'))\n",
    "print(synonyms_dic.get('Cold')) #this command will work for all values the last one......"
   ]
  },
  {
   "cell_type": "code",
   "execution_count": 32,
   "id": "58677416",
   "metadata": {},
   "outputs": [],
   "source": [
    "#Q13 Delete everything from synonyms_dic"
   ]
  },
  {
   "cell_type": "code",
   "execution_count": 33,
   "id": "6b295e3e",
   "metadata": {},
   "outputs": [
    {
     "name": "stdout",
     "output_type": "stream",
     "text": [
      "{'Bad': 'awful', 'Good': 'fine', 'Awesome': 'amazing', 'Cold': 'freezing', 'Easy': 'simple', 'Hard': 'Tough', 'Big': 'Giant', 'Small': 'Tiny'}\n"
     ]
    }
   ],
   "source": [
    "print(synonyms_dic)"
   ]
  },
  {
   "cell_type": "code",
   "execution_count": 34,
   "id": "17f84bc5",
   "metadata": {},
   "outputs": [
    {
     "data": {
      "text/plain": [
       "{'Bad': 'awful',\n",
       " 'Good': 'fine',\n",
       " 'Awesome': 'amazing',\n",
       " 'Cold': 'freezing',\n",
       " 'Easy': 'simple',\n",
       " 'Hard': 'Tough',\n",
       " 'Big': 'Giant',\n",
       " 'Small': 'Tiny'}"
      ]
     },
     "execution_count": 34,
     "metadata": {},
     "output_type": "execute_result"
    }
   ],
   "source": [
    "synonyms_dic"
   ]
  },
  {
   "cell_type": "code",
   "execution_count": 36,
   "id": "3aa2fad1",
   "metadata": {},
   "outputs": [],
   "source": [
    "del(synonyms_dic['Bad']) #to delete by key"
   ]
  },
  {
   "cell_type": "code",
   "execution_count": 37,
   "id": "ed6d0a56",
   "metadata": {},
   "outputs": [
    {
     "data": {
      "text/plain": [
       "{'Good': 'fine',\n",
       " 'Awesome': 'amazing',\n",
       " 'Cold': 'freezing',\n",
       " 'Easy': 'simple',\n",
       " 'Hard': 'Tough',\n",
       " 'Big': 'Giant',\n",
       " 'Small': 'Tiny'}"
      ]
     },
     "execution_count": 37,
     "metadata": {},
     "output_type": "execute_result"
    }
   ],
   "source": [
    "synonyms_dic"
   ]
  },
  {
   "cell_type": "code",
   "execution_count": 38,
   "id": "aa0c9045",
   "metadata": {},
   "outputs": [],
   "source": [
    "synonyms_dic.clear()"
   ]
  },
  {
   "cell_type": "code",
   "execution_count": 39,
   "id": "84a8ec40",
   "metadata": {},
   "outputs": [
    {
     "data": {
      "text/plain": [
       "{}"
      ]
     },
     "execution_count": 39,
     "metadata": {},
     "output_type": "execute_result"
    }
   ],
   "source": [
    "synonyms_dic"
   ]
  },
  {
   "cell_type": "code",
   "execution_count": 40,
   "id": "20b4c095",
   "metadata": {},
   "outputs": [],
   "source": [
    "#Q14 Print all values in synonyms_dic"
   ]
  },
  {
   "cell_type": "code",
   "execution_count": 42,
   "id": "5322a41a",
   "metadata": {},
   "outputs": [
    {
     "name": "stdout",
     "output_type": "stream",
     "text": [
      "dict_values([])\n"
     ]
    }
   ],
   "source": [
    "print(synonyms_dic.values())"
   ]
  },
  {
   "cell_type": "code",
   "execution_count": 43,
   "id": "62c554ff",
   "metadata": {},
   "outputs": [],
   "source": [
    "#Q15 Convert the below two lists into dictionary\n",
    "Keys=[\"True\",\"False\"]\n",
    "Values=[1,0]"
   ]
  },
  {
   "cell_type": "code",
   "execution_count": 51,
   "id": "b653c491",
   "metadata": {},
   "outputs": [],
   "source": [
    "dict_new = dict(zip(Keys, Values))"
   ]
  },
  {
   "cell_type": "code",
   "execution_count": 52,
   "id": "6a2acaef",
   "metadata": {},
   "outputs": [
    {
     "name": "stdout",
     "output_type": "stream",
     "text": [
      "{'True': 1, 'False': 0}\n"
     ]
    }
   ],
   "source": [
    "print(dict_new)"
   ]
  },
  {
   "cell_type": "code",
   "execution_count": 53,
   "id": "087034d1",
   "metadata": {},
   "outputs": [],
   "source": [
    "#Q16 Sum all the values in the following dictionary\n",
    "income= {'Jan':1000, 'Feb':1500, 'Mar':980,'April':1000}"
   ]
  },
  {
   "cell_type": "code",
   "execution_count": 54,
   "id": "52b78652",
   "metadata": {},
   "outputs": [
    {
     "data": {
      "text/plain": [
       "{'Jan': 1000, 'Feb': 1500, 'Mar': 980, 'April': 1000}"
      ]
     },
     "execution_count": 54,
     "metadata": {},
     "output_type": "execute_result"
    }
   ],
   "source": [
    "income"
   ]
  },
  {
   "cell_type": "code",
   "execution_count": 55,
   "id": "b32daa8c",
   "metadata": {},
   "outputs": [
    {
     "data": {
      "text/plain": [
       "dict_values([1000, 1500, 980, 1000])"
      ]
     },
     "execution_count": 55,
     "metadata": {},
     "output_type": "execute_result"
    }
   ],
   "source": [
    "income.values()"
   ]
  },
  {
   "cell_type": "code",
   "execution_count": 56,
   "id": "6a04d900",
   "metadata": {},
   "outputs": [
    {
     "data": {
      "text/plain": [
       "4480"
      ]
     },
     "execution_count": 56,
     "metadata": {},
     "output_type": "execute_result"
    }
   ],
   "source": [
    "sum(income.values())"
   ]
  },
  {
   "cell_type": "code",
   "execution_count": 57,
   "id": "76452df5",
   "metadata": {},
   "outputs": [],
   "source": [
    "#Q17 Create the following dictionary encryption={10:\"hungry\", 101:\"am\", 110:\"I\",1011:\" \" 110:\" \" 1001:\" \" 1:\" \"}\n",
    "# What should be the decryption of the following code \"110 101 10 1011 110 1001 1\""
   ]
  },
  {
   "cell_type": "code",
   "execution_count": 61,
   "id": "c92b576e",
   "metadata": {},
   "outputs": [
    {
     "name": "stdout",
     "output_type": "stream",
     "text": [
      "encryption word of 110 is I\n",
      "encryption word of 101 is am\n",
      "encryption word of 10 is hungry\n",
      "encryption word of 1011 is and\n",
      "encryption word of 110 is I\n",
      "encryption word of 1001 is want\n",
      "encryption word of 1101 is food\n",
      "encryption word of 11011 is now\n"
     ]
    }
   ],
   "source": [
    "encryption={10:\"hungry\", 101:\"am\", 1001:\"want\",1101:\"food\",110:\"I\",1011:\"and\", 11011:\"now\"}\n",
    "keys = [ 110, 101, 10, 1011, 110, 1001, 1101, 11011]\n",
    "\n",
    "for key in keys:\n",
    "    print(\"encryption word of {} is\".format(key) + \" \" + encryption[key])"
   ]
  },
  {
   "cell_type": "code",
   "execution_count": null,
   "id": "6cd40b19",
   "metadata": {},
   "outputs": [],
   "source": []
  }
 ],
 "metadata": {
  "kernelspec": {
   "display_name": "Python 3 (ipykernel)",
   "language": "python",
   "name": "python3"
  },
  "language_info": {
   "codemirror_mode": {
    "name": "ipython",
    "version": 3
   },
   "file_extension": ".py",
   "mimetype": "text/x-python",
   "name": "python",
   "nbconvert_exporter": "python",
   "pygments_lexer": "ipython3",
   "version": "3.9.7"
  }
 },
 "nbformat": 4,
 "nbformat_minor": 5
}
