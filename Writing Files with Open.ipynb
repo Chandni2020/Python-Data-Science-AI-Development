{
 "cells": [
  {
   "cell_type": "code",
   "execution_count": 1,
   "id": "9ea3fc4a",
   "metadata": {},
   "outputs": [],
   "source": [
    "#######--------------------Writing Files--------------------------#########"
   ]
  },
  {
   "cell_type": "code",
   "execution_count": 2,
   "id": "7f33cd90",
   "metadata": {},
   "outputs": [],
   "source": [
    "#To write to a text file in Python, you follow these steps:\n",
    "\n",
    "#First, open the text file for writing (or appending) using the open() function.\n",
    "#Second, write to the text file using the write() or writelines() method.\n",
    "#Third, close the file using the close() method.\n",
    "\n",
    "\n",
    "#The write() method writes a string to a text file and \n",
    "#the writelines() method write a list of strings to a file at once.\n",
    "#In fact, the writelines() method accepts an iterable object, not just a list, \n",
    "#so you can pass a tuple of strings, a set of strings, etc., to the writelines() method."
   ]
  },
  {
   "cell_type": "code",
   "execution_count": 3,
   "id": "0dc2c532",
   "metadata": {},
   "outputs": [],
   "source": [
    "#We can open a file object using the method write() to save the text file to a list. \n",
    "#To write to a file, the mode argument must be set to w. \n",
    "#Let’s write a file Example2.txt with the line: “This is line A”"
   ]
  },
  {
   "cell_type": "code",
   "execution_count": 4,
   "id": "1c25fb46",
   "metadata": {},
   "outputs": [],
   "source": [
    "# Write line to file"
   ]
  },
  {
   "cell_type": "code",
   "execution_count": 5,
   "id": "3af4bd7a",
   "metadata": {},
   "outputs": [],
   "source": [
    "example2 = \"Example2.txt\"\n",
    "with open(example2, 'w') as writefile:\n",
    "    writefile.write('This is line A.\\nThe write() method writes a string to a text file and \\nthe writelines() method write a list of strings to a file at once.')"
   ]
  },
  {
   "cell_type": "code",
   "execution_count": 6,
   "id": "7ff31bbd",
   "metadata": {},
   "outputs": [
    {
     "data": {
      "text/plain": [
       "'Example2.txt'"
      ]
     },
     "execution_count": 6,
     "metadata": {},
     "output_type": "execute_result"
    }
   ],
   "source": [
    "writefile.name"
   ]
  },
  {
   "cell_type": "code",
   "execution_count": 7,
   "id": "e6ffe85a",
   "metadata": {},
   "outputs": [],
   "source": [
    "# Read file"
   ]
  },
  {
   "cell_type": "code",
   "execution_count": 8,
   "id": "e80cb34f",
   "metadata": {},
   "outputs": [
    {
     "name": "stdout",
     "output_type": "stream",
     "text": [
      "This is line A.\n",
      "The write() method writes a string to a text file and \n",
      "the writelines() method write a list of strings to a file at once.\n"
     ]
    }
   ],
   "source": [
    "with open (example2, 'r') as testwritefile:\n",
    "    print(testwritefile.read())"
   ]
  },
  {
   "cell_type": "code",
   "execution_count": 9,
   "id": "5389e8af",
   "metadata": {},
   "outputs": [],
   "source": [
    "#We can write multiple lines:"
   ]
  },
  {
   "cell_type": "code",
   "execution_count": 10,
   "id": "1a1f732b",
   "metadata": {},
   "outputs": [],
   "source": [
    "with open (example2, \"w\") as writefile:\n",
    "    writefile.write('This is line A \\n')\n",
    "    writefile.write('This is the method to write multiple lines\\n')\n",
    "    writefile.write('The write() method writes a string to a text file\\n')\n",
    "    writefile.write('the writelines() method write a list of strings to a file at once.\\n')\n",
    "    writefile.write(\"In fact, the writelines() method accepts an iterable object, not just a list,\\n\")\n",
    "    writefile.write(\"so you can pass a tuple of strings, a set of strings, etc., to the writelines() method.\\n\")\n",
    "    writefile.write(\"Here, 'r' is used to check whether the lines are added in the file or not\")"
   ]
  },
  {
   "cell_type": "code",
   "execution_count": 11,
   "id": "63ccd9b2",
   "metadata": {},
   "outputs": [],
   "source": [
    "#The method .write() works similar to the method .readline(), \n",
    "#except instead of reading a new line it writes a new line. The process is illustrated in the figure. \n",
    "#The different colour coding of the grid represents a new line added to the file after each method call.\n",
    "#You can check the file to see if your results are correct"
   ]
  },
  {
   "cell_type": "code",
   "execution_count": 12,
   "id": "50d6da8c",
   "metadata": {},
   "outputs": [],
   "source": [
    "# Check whether write to file"
   ]
  },
  {
   "cell_type": "code",
   "execution_count": 13,
   "id": "3d7fb4bb",
   "metadata": {},
   "outputs": [
    {
     "name": "stdout",
     "output_type": "stream",
     "text": [
      "This is line A \n",
      "This is the method to write multiple lines\n",
      "The write() method writes a string to a text file\n",
      "the writelines() method write a list of strings to a file at once.\n",
      "In fact, the writelines() method accepts an iterable object, not just a list,\n",
      "so you can pass a tuple of strings, a set of strings, etc., to the writelines() method.\n",
      "Here, 'r' is used to check whether the lines are added in the file or not\n"
     ]
    }
   ],
   "source": [
    "with open (example2, \"r\") as testwritefile:\n",
    "    print(testwritefile.read())"
   ]
  },
  {
   "cell_type": "code",
   "execution_count": 14,
   "id": "1c7cd973",
   "metadata": {},
   "outputs": [],
   "source": [
    "#We write a list to a .txt file as follows:"
   ]
  },
  {
   "cell_type": "code",
   "execution_count": 15,
   "id": "20a430bd",
   "metadata": {},
   "outputs": [],
   "source": [
    "# Sample list of text"
   ]
  },
  {
   "cell_type": "code",
   "execution_count": 16,
   "id": "9c2b5255",
   "metadata": {},
   "outputs": [],
   "source": [
    "Lines = [\"This command here is to add list to txt file \\n\", \"Confirm the txt file, if it is added \\n\", \"Yes! I got my list here\"]"
   ]
  },
  {
   "cell_type": "code",
   "execution_count": 17,
   "id": "e8bae184",
   "metadata": {},
   "outputs": [
    {
     "data": {
      "text/plain": [
       "['This command here is to add list to txt file \\n',\n",
       " 'Confirm the txt file, if it is added \\n',\n",
       " 'Yes! I got my list here']"
      ]
     },
     "execution_count": 17,
     "metadata": {},
     "output_type": "execute_result"
    }
   ],
   "source": [
    "Lines"
   ]
  },
  {
   "cell_type": "code",
   "execution_count": 18,
   "id": "c35bd4d3",
   "metadata": {},
   "outputs": [],
   "source": [
    "# Write the strings in the list to text file"
   ]
  },
  {
   "cell_type": "code",
   "execution_count": 19,
   "id": "612e791d",
   "metadata": {},
   "outputs": [
    {
     "name": "stdout",
     "output_type": "stream",
     "text": [
      "This command here is to add list to txt file \n",
      "\n",
      "Confirm the txt file, if it is added \n",
      "\n",
      "Yes! I got my list here\n"
     ]
    }
   ],
   "source": [
    "with open (example2, \"w\") as writefile:\n",
    "    for line in Lines:\n",
    "        print(line)\n",
    "        writefile.write(line)"
   ]
  },
  {
   "cell_type": "code",
   "execution_count": 20,
   "id": "3035f991",
   "metadata": {},
   "outputs": [],
   "source": [
    "#We can verify the file is written by reading it and printing out the values:"
   ]
  },
  {
   "cell_type": "code",
   "execution_count": 21,
   "id": "0bb1f2a3",
   "metadata": {},
   "outputs": [],
   "source": [
    "## Verify if writing to file is successfully executed"
   ]
  },
  {
   "cell_type": "code",
   "execution_count": 22,
   "id": "bd2943d3",
   "metadata": {},
   "outputs": [
    {
     "name": "stdout",
     "output_type": "stream",
     "text": [
      "This command here is to add list to txt file \n",
      "Confirm the txt file, if it is added \n",
      "Yes! I got my list here\n"
     ]
    }
   ],
   "source": [
    "with open(example2, 'r') as testwritefile:\n",
    "    print(testwritefile.read())"
   ]
  },
  {
   "cell_type": "code",
   "execution_count": 23,
   "id": "1b0ba87a",
   "metadata": {},
   "outputs": [],
   "source": [
    "#However, note that setting the mode to w overwrites all the existing data in the file."
   ]
  },
  {
   "cell_type": "code",
   "execution_count": 24,
   "id": "76522394",
   "metadata": {},
   "outputs": [
    {
     "name": "stdout",
     "output_type": "stream",
     "text": [
      "Overwrite \n",
      "\n"
     ]
    }
   ],
   "source": [
    "with open (example2, 'w') as writefile:\n",
    "    writefile.write(\"Overwrite \\n\")\n",
    "\n",
    "    \n",
    "with open (example2, \"r\") as testwritefile:\n",
    "    print(testwritefile.read())"
   ]
  },
  {
   "cell_type": "code",
   "execution_count": 25,
   "id": "cd19ccc4",
   "metadata": {},
   "outputs": [],
   "source": [
    "###########---------------------Appending Files----------------------#############"
   ]
  },
  {
   "cell_type": "code",
   "execution_count": 26,
   "id": "5e16e3e4",
   "metadata": {},
   "outputs": [],
   "source": [
    "#We can write to files without losing any of the existing data as follows by setting the mode \n",
    "#argument to append: a. you can append a new line as follows:"
   ]
  },
  {
   "cell_type": "code",
   "execution_count": 27,
   "id": "10c8d2dc",
   "metadata": {},
   "outputs": [],
   "source": [
    "# Write a new line to text file"
   ]
  },
  {
   "cell_type": "code",
   "execution_count": 28,
   "id": "17a673af",
   "metadata": {},
   "outputs": [],
   "source": [
    "with open (\"Example2.txt\", \"a\") as testwritefile:\n",
    "    testwritefile.write(\"This is line C \\n\")\n",
    "    testwritefile.write(\"We can write to files without losing any of the existing data \\n\")\n",
    "    testwritefile.write(\"by setting the mode argument to append: a.\\n\")\n",
    "    testwritefile.write(\"you can append a new line\")"
   ]
  },
  {
   "cell_type": "code",
   "execution_count": 29,
   "id": "c16d7c0b",
   "metadata": {},
   "outputs": [],
   "source": [
    "#You can verify the file has changed by running the following cell:\n",
    "# Verify if the new line is in the text file"
   ]
  },
  {
   "cell_type": "code",
   "execution_count": 30,
   "id": "1dccd581",
   "metadata": {},
   "outputs": [
    {
     "name": "stdout",
     "output_type": "stream",
     "text": [
      "Overwrite \n",
      "This is line C \n",
      "We can write to files without losing any of the existing data \n",
      "by setting the mode argument to append: a.\n",
      "you can append a new line\n"
     ]
    }
   ],
   "source": [
    "with open (\"Example2.txt\", 'r') as testwritefile:\n",
    "    print(testwritefile.read())"
   ]
  },
  {
   "cell_type": "code",
   "execution_count": 31,
   "id": "4bb3160a",
   "metadata": {},
   "outputs": [],
   "source": [
    "#########------------------------Additional Modes---------------------############"
   ]
  },
  {
   "cell_type": "code",
   "execution_count": 32,
   "id": "83fb0784",
   "metadata": {},
   "outputs": [],
   "source": [
    "#It's fairly ineffecient to open the file in a or w and then reopening it in r to read any lines. \n",
    "#Luckily we can access the file in the following modes:\n",
    "\n",
    "#r+ : Reading and writing. Cannot truncate the file.\n",
    "#w+ : Writing and reading. Truncates the file.\n",
    "#a+ : Appending and Reading. Creates a new file, if none exists.\n",
    "#You dont have to dwell on the specifics of each mode for this lab."
   ]
  },
  {
   "cell_type": "code",
   "execution_count": 33,
   "id": "c7a30a79",
   "metadata": {},
   "outputs": [],
   "source": [
    "#Let's try out the a+ mode:"
   ]
  },
  {
   "cell_type": "code",
   "execution_count": 34,
   "id": "3e78c265",
   "metadata": {},
   "outputs": [
    {
     "name": "stdout",
     "output_type": "stream",
     "text": [
      "\n"
     ]
    }
   ],
   "source": [
    "with open (\"Example2.txt\", 'a+') as testwritefile:\n",
    "    testwritefile.write(\"To check a+ mode \\n\")\n",
    "    print(testwritefile.read())\n",
    "    \n",
    "#There were no errors but read() also did not output anything. This is because of our location in the file."
   ]
  },
  {
   "cell_type": "code",
   "execution_count": 35,
   "id": "637a8859",
   "metadata": {},
   "outputs": [],
   "source": [
    "#.tell() - returns the current position in bytes\n",
    "#.seek(offset,from) - changes the position by 'offset' bytes with respect to 'from'. \n",
    "#From can take the value of 0,1,2 corresponding to beginning, relative to current position and end"
   ]
  },
  {
   "cell_type": "code",
   "execution_count": 36,
   "id": "48c9db3d",
   "metadata": {},
   "outputs": [
    {
     "name": "stdout",
     "output_type": "stream",
     "text": [
      "Initial Location: 176\n",
      "Read nothing\n",
      "\n",
      "New Location : 0\n",
      "Overwrite \n",
      "This is line C \n",
      "We can write to files without losing any of the existing data \n",
      "by setting the mode argument to append: a.\n",
      "you can append a new lineTo check a+ mode \n",
      "\n",
      "Location after read: 176\n"
     ]
    }
   ],
   "source": [
    "with open('Example2.txt', 'a+') as testwritefile:\n",
    "    print(\"Initial Location: {}\".format(testwritefile.tell()))\n",
    "    \n",
    "    data = testwritefile.read()\n",
    "    if (not data):  #empty strings return false in python\n",
    "            print('Read nothing') \n",
    "    else: \n",
    "            print(testwritefile.read())\n",
    "            \n",
    "    testwritefile.seek(0,0) # move 0 bytes from beginning.\n",
    "    \n",
    "    print(\"\\nNew Location : {}\".format(testwritefile.tell()))\n",
    "    data = testwritefile.read()\n",
    "    if (not data): \n",
    "            print('Read nothing') \n",
    "    else: \n",
    "            print(data)\n",
    "    \n",
    "    print(\"Location after read: {}\".format(testwritefile.tell()) )"
   ]
  },
  {
   "cell_type": "code",
   "execution_count": 37,
   "id": "9f9ba95a",
   "metadata": {},
   "outputs": [],
   "source": [
    "#To work with a file on existing data, use r+ and a+. While using r+, it can be useful to add a .truncate() \n",
    "#method at the end of your data. This will reduce the file to your data and delete everything that follows.\n",
    "#In the following code block, Run the code as it is first and then run it with the .truncate()."
   ]
  },
  {
   "cell_type": "code",
   "execution_count": 38,
   "id": "6812a93d",
   "metadata": {},
   "outputs": [
    {
     "name": "stdout",
     "output_type": "stream",
     "text": [
      "Line 1\n",
      "Line 2\n",
      "Line 3\n",
      "finished\n",
      "can write to files without losing any of the existing data \n",
      "by setting the mode argument to append: a.\n",
      "you can append a new lineTo check a+ mode \n",
      "\n"
     ]
    }
   ],
   "source": [
    "with open('Example2.txt', 'r+') as testwritefile:\n",
    "    data = testwritefile.readlines()\n",
    "    testwritefile.seek(0,0) #write at beginning of file\n",
    "   \n",
    "    testwritefile.write(\"Line 1\" + \"\\n\")\n",
    "    testwritefile.write(\"Line 2\" + \"\\n\")\n",
    "    testwritefile.write(\"Line 3\" + \"\\n\")\n",
    "    testwritefile.write(\"finished\\n\")\n",
    "    #Uncomment the line below\n",
    "    #testwritefile.truncate()\n",
    "    testwritefile.seek(0,0)\n",
    "    print(testwritefile.read())"
   ]
  },
  {
   "cell_type": "code",
   "execution_count": 39,
   "id": "32ae1bf3",
   "metadata": {},
   "outputs": [
    {
     "name": "stdout",
     "output_type": "stream",
     "text": [
      "Line 1\n",
      "Line 2\n",
      "Line 3\n",
      "finished\n",
      "\n"
     ]
    }
   ],
   "source": [
    "with open('Example2.txt', 'r+') as testwritefile:\n",
    "    data = testwritefile.readlines()\n",
    "    testwritefile.seek(0,0) #write at beginning of file\n",
    "   \n",
    "    testwritefile.write(\"Line 1\" + \"\\n\")\n",
    "    testwritefile.write(\"Line 2\" + \"\\n\")\n",
    "    testwritefile.write(\"Line 3\" + \"\\n\")\n",
    "    testwritefile.write(\"finished\\n\")\n",
    "    #Uncomment the line below\n",
    "    testwritefile.truncate()\n",
    "    testwritefile.seek(0,0)\n",
    "    print(testwritefile.read())"
   ]
  },
  {
   "cell_type": "code",
   "execution_count": 40,
   "id": "88ebcb28",
   "metadata": {},
   "outputs": [],
   "source": [
    "#######-------------_Copy a file----------------------###############"
   ]
  },
  {
   "cell_type": "code",
   "execution_count": 41,
   "id": "0e2eb60f",
   "metadata": {},
   "outputs": [],
   "source": [
    "#Let's copy the file Example2.txt to the file Example3.txt:"
   ]
  },
  {
   "cell_type": "code",
   "execution_count": 42,
   "id": "c9584ad4",
   "metadata": {},
   "outputs": [],
   "source": [
    "with open (\"Example2.txt\", \"r\") as readfile:\n",
    "    with open (\"Example3.txt\", \"w\") as writefile:\n",
    "        for line in readfile:\n",
    "            writefile.write(line)"
   ]
  },
  {
   "cell_type": "code",
   "execution_count": 43,
   "id": "f2c1e33c",
   "metadata": {},
   "outputs": [],
   "source": [
    "#We can read the file to see if everything works:"
   ]
  },
  {
   "cell_type": "code",
   "execution_count": null,
   "id": "1af78f23",
   "metadata": {},
   "outputs": [],
   "source": [
    "# Verify if the copy is successfully executed"
   ]
  },
  {
   "cell_type": "code",
   "execution_count": 44,
   "id": "de7380fb",
   "metadata": {},
   "outputs": [
    {
     "name": "stdout",
     "output_type": "stream",
     "text": [
      "Line 1\n",
      "Line 2\n",
      "Line 3\n",
      "finished\n",
      "\n"
     ]
    }
   ],
   "source": [
    "with open (\"Example3.txt\", \"r\") as testwritefile:\n",
    "    print(testwritefile.read())"
   ]
  },
  {
   "cell_type": "code",
   "execution_count": 45,
   "id": "f3c8a5eb",
   "metadata": {},
   "outputs": [],
   "source": [
    "###########-------------------Exercise--------------------------#######################"
   ]
  },
  {
   "cell_type": "code",
   "execution_count": 46,
   "id": "007289fb",
   "metadata": {},
   "outputs": [],
   "source": [
    "#Your local university's Raptors fan club maintains a register of its active members on a .txt document. \n",
    "#Every month they update the file by removing the members who are not active. \n",
    "#You have been tasked with automating this with your Python skills.\n",
    "#Given the file currentMem, Remove each member with a 'no' in their Active column. \n",
    "#Keep track of each of the removed members and append them to the exMem file. \n",
    "#Make sure that the format of the original files in preserved. \n",
    "#(Hint: Do this by reading/writing whole lines and ensuring the header remains )\n",
    "#Run the code block below prior to starting the exercise. \n",
    "#The skeleton code has been provided for you. Edit only the cleanFiles function."
   ]
  },
  {
   "cell_type": "code",
   "execution_count": 47,
   "id": "e78d82a5",
   "metadata": {},
   "outputs": [],
   "source": [
    "#Run this prior to starting the exercise"
   ]
  },
  {
   "cell_type": "code",
   "execution_count": 48,
   "id": "9b01b6e4",
   "metadata": {},
   "outputs": [],
   "source": [
    "from random import randint as rnd\n",
    "\n",
    "memReg = 'members.txt'\n",
    "exReg = 'inactive.txt'\n",
    "fee =('yes','no')\n",
    "\n",
    "def genFiles(current,old):\n",
    "    with open(current,'w+') as writefile: \n",
    "        writefile.write('Membership No  Date Joined  Active  \\n')\n",
    "        data = \"{:^13}  {:<11}  {:<6}\\n\"\n",
    "\n",
    "        for rowno in range(20):\n",
    "            date = str(rnd(2015,2020))+ '-' + str(rnd(1,12))+'-'+str(rnd(1,25))\n",
    "            writefile.write(data.format(rnd(10000,99999),date,fee[rnd(0,1)]))\n",
    "\n",
    "\n",
    "    with open(old,'w+') as writefile: \n",
    "        writefile.write('Membership No  Date Joined  Active  \\n')\n",
    "        data = \"{:^13}  {:<11}  {:<6}\\n\"\n",
    "        for rowno in range(3):\n",
    "            date = str(rnd(2015,2020))+ '-' + str(rnd(1,12))+'-'+str(rnd(1,25))\n",
    "            writefile.write(data.format(rnd(10000,99999),date,fee[1]))\n",
    "\n",
    "\n",
    "genFiles(memReg,exReg)\n"
   ]
  },
  {
   "cell_type": "code",
   "execution_count": 49,
   "id": "513ff654",
   "metadata": {},
   "outputs": [],
   "source": [
    "#Now that you've run the prerequisite code cell above, which prepared the files for this exercise, \n",
    "#you are ready to move on to the implementation."
   ]
  },
  {
   "cell_type": "code",
   "execution_count": 50,
   "id": "00e832c0",
   "metadata": {},
   "outputs": [],
   "source": [
    "#Exercise: Implement the cleanFiles function in the code cell below."
   ]
  },
  {
   "cell_type": "code",
   "execution_count": 51,
   "id": "45d728ce",
   "metadata": {},
   "outputs": [
    {
     "name": "stdout",
     "output_type": "stream",
     "text": [
      "Active Members: \n",
      "\n",
      "\n",
      "Membership No  Date Joined  Active  \n",
      "    11642      2017-10-23   yes   \n",
      "    91372      2018-1-6     no    \n",
      "    17936      2016-2-15    yes   \n",
      "    59123      2019-10-20   yes   \n",
      "    13965      2017-2-17    no    \n",
      "    69513      2015-8-14    yes   \n",
      "    44695      2017-5-4     yes   \n",
      "    24389      2019-4-5     yes   \n",
      "    52530      2015-10-13   no    \n",
      "    93112      2016-5-10    yes   \n",
      "    13847      2015-4-6     no    \n",
      "    48760      2018-5-6     no    \n",
      "    70661      2015-9-6     yes   \n",
      "    69679      2016-7-5     no    \n",
      "    73519      2016-3-16    yes   \n",
      "    49128      2016-7-20    no    \n",
      "    37186      2016-1-19    yes   \n",
      "    80887      2016-2-15    no    \n",
      "    75302      2015-7-23    no    \n",
      "    17290      2015-7-24    no    \n",
      "\n",
      "Inactive Members: \n",
      "\n",
      "\n",
      "Membership No  Date Joined  Active  \n",
      "    40379      2019-3-10    no    \n",
      "    72782      2017-3-17    no    \n",
      "    37509      2015-3-16    no    \n",
      "\n"
     ]
    }
   ],
   "source": [
    "'''\n",
    "The two arguments for this function are the files:\n",
    "    - currentMem: File containing list of current members\n",
    "    - exMem: File containing list of old members\n",
    "    \n",
    "    This function should remove all rows from currentMem containing 'no' \n",
    "    in the 'Active' column and appends them to exMem.\n",
    "    '''\n",
    "def cleanFiles(currentMem, exMem):\n",
    "    # TODO: Open the currentMem file as in r+ mode\n",
    "        #TODO: Open the exMem file in a+ mode\n",
    "\n",
    "        #TODO: Read each member in the currentMem (1 member per row) file into a list.\n",
    "        # Hint: Recall that the first line in the file is the header.\n",
    "\n",
    "        #TODO: iterate through the members and create a new list of the innactive members\n",
    "\n",
    "        # Go to the beginning of the currentMem file\n",
    "        # TODO: Iterate through the members list. \n",
    "        # If a member is inactive, add them to exMem, otherwise write them into currentMem\n",
    "\n",
    "        \n",
    "    \n",
    "    pass # Remove this line when done implementation\n",
    "\n",
    "\n",
    "# The code below is to help you view the files.\n",
    "# Do not modify this code for this exercise.\n",
    "memReg = 'members.txt'\n",
    "exReg = 'inactive.txt'\n",
    "cleanFiles(memReg,exReg)\n",
    "\n",
    "\n",
    "headers = \"Membership No  Date Joined  Active  \\n\"\n",
    "with open(memReg,'r') as readFile:\n",
    "    print(\"Active Members: \\n\\n\")\n",
    "    print(readFile.read())\n",
    "    \n",
    "with open(exReg,'r') as readFile:\n",
    "    print(\"Inactive Members: \\n\\n\")\n",
    "    print(readFile.read())"
   ]
  },
  {
   "cell_type": "code",
   "execution_count": 52,
   "id": "5f07dc72",
   "metadata": {},
   "outputs": [],
   "source": [
    "#The code cell below is to verify your solution. \n",
    "#run it to test your implementation of cleanFiles."
   ]
  },
  {
   "cell_type": "code",
   "execution_count": 53,
   "id": "d9a98c12",
   "metadata": {},
   "outputs": [
    {
     "name": "stdout",
     "output_type": "stream",
     "text": [
      "Inactive members in file\n",
      "Test Failed\n"
     ]
    }
   ],
   "source": [
    "def testMsg(passed):\n",
    "    if passed:\n",
    "       return 'Test Passed'\n",
    "    else :\n",
    "       return 'Test Failed'\n",
    "\n",
    "testWrite = \"testWrite.txt\"\n",
    "testAppend = \"testAppend.txt\" \n",
    "passed = True\n",
    "\n",
    "genFiles(testWrite,testAppend)\n",
    "\n",
    "with open(testWrite,'r') as file:\n",
    "    ogWrite = file.readlines()\n",
    "\n",
    "with open(testAppend,'r') as file:\n",
    "    ogAppend = file.readlines()\n",
    "\n",
    "try:\n",
    "    cleanFiles(testWrite,testAppend)\n",
    "except:\n",
    "    print('Error')\n",
    "\n",
    "with open(testWrite,'r') as file:\n",
    "    clWrite = file.readlines()\n",
    "\n",
    "with open(testAppend,'r') as file:\n",
    "    clAppend = file.readlines()\n",
    "        \n",
    "# checking if total no of rows is same, including headers\n",
    "\n",
    "if (len(ogWrite) + len(ogAppend) != len(clWrite) + len(clAppend)):\n",
    "    print(\"The number of rows do not add up. Make sure your final files have the same header and format.\")\n",
    "    passed = False\n",
    "    \n",
    "for line in clWrite:\n",
    "    if  'no' in line:\n",
    "        passed = False\n",
    "        print(\"Inactive members in file\")\n",
    "        break\n",
    "    else:\n",
    "        if line not in ogWrite:\n",
    "            print(\"Data in file does not match original file\")\n",
    "            passed = False\n",
    "print (\"{}\".format(testMsg(passed)))"
   ]
  },
  {
   "cell_type": "code",
   "execution_count": null,
   "id": "f70258b3",
   "metadata": {},
   "outputs": [],
   "source": []
  }
 ],
 "metadata": {
  "kernelspec": {
   "display_name": "Python 3 (ipykernel)",
   "language": "python",
   "name": "python3"
  },
  "language_info": {
   "codemirror_mode": {
    "name": "ipython",
    "version": 3
   },
   "file_extension": ".py",
   "mimetype": "text/x-python",
   "name": "python",
   "nbconvert_exporter": "python",
   "pygments_lexer": "ipython3",
   "version": "3.9.7"
  }
 },
 "nbformat": 4,
 "nbformat_minor": 5
}
