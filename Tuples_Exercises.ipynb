{
 "cells": [
  {
   "cell_type": "code",
   "execution_count": 1,
   "id": "82257c7b",
   "metadata": {},
   "outputs": [],
   "source": [
    "#Q1 Create myTuple tuple with the follwoing values (\"NPower\",\"JDA\",\"Tuesday\",30,31,2021)"
   ]
  },
  {
   "cell_type": "code",
   "execution_count": 2,
   "id": "ee595ddb",
   "metadata": {},
   "outputs": [],
   "source": [
    "myTuple =  (\"NPower\",\"JDA\",\"Tuesday\",30,31,2021)"
   ]
  },
  {
   "cell_type": "code",
   "execution_count": 3,
   "id": "3adf2300",
   "metadata": {},
   "outputs": [
    {
     "data": {
      "text/plain": [
       "('NPower', 'JDA', 'Tuesday', 30, 31, 2021)"
      ]
     },
     "execution_count": 3,
     "metadata": {},
     "output_type": "execute_result"
    }
   ],
   "source": [
    "myTuple"
   ]
  },
  {
   "cell_type": "code",
   "execution_count": 4,
   "id": "522e09d4",
   "metadata": {},
   "outputs": [],
   "source": [
    "#Q2 What is the type of myTuple"
   ]
  },
  {
   "cell_type": "code",
   "execution_count": 5,
   "id": "5a2b070b",
   "metadata": {},
   "outputs": [
    {
     "data": {
      "text/plain": [
       "tuple"
      ]
     },
     "execution_count": 5,
     "metadata": {},
     "output_type": "execute_result"
    }
   ],
   "source": [
    "type(myTuple)"
   ]
  },
  {
   "cell_type": "code",
   "execution_count": 6,
   "id": "6156089b",
   "metadata": {},
   "outputs": [],
   "source": [
    "#Q3 What is the length of myTuple"
   ]
  },
  {
   "cell_type": "code",
   "execution_count": 7,
   "id": "1302fa27",
   "metadata": {},
   "outputs": [
    {
     "data": {
      "text/plain": [
       "6"
      ]
     },
     "execution_count": 7,
     "metadata": {},
     "output_type": "execute_result"
    }
   ],
   "source": [
    "len(myTuple)"
   ]
  },
  {
   "cell_type": "code",
   "execution_count": 8,
   "id": "b53ba56e",
   "metadata": {},
   "outputs": [],
   "source": [
    "#Q4 print the values in each index #Use regular indexing"
   ]
  },
  {
   "cell_type": "code",
   "execution_count": 10,
   "id": "eec206f6",
   "metadata": {},
   "outputs": [
    {
     "name": "stdout",
     "output_type": "stream",
     "text": [
      "('NPower', 'JDA', 'Tuesday', 30, 31, 2021)\n"
     ]
    }
   ],
   "source": [
    "print(myTuple[:6])"
   ]
  },
  {
   "cell_type": "code",
   "execution_count": 11,
   "id": "253d2208",
   "metadata": {},
   "outputs": [],
   "source": [
    "#Q5 print the values in each index #Use negative indexing"
   ]
  },
  {
   "cell_type": "code",
   "execution_count": 15,
   "id": "50c89d34",
   "metadata": {},
   "outputs": [
    {
     "name": "stdout",
     "output_type": "stream",
     "text": [
      "('NPower', 'JDA', 'Tuesday', 30, 31, 2021)\n"
     ]
    }
   ],
   "source": [
    "print(myTuple[-6:])"
   ]
  },
  {
   "cell_type": "code",
   "execution_count": 16,
   "id": "552b1975",
   "metadata": {},
   "outputs": [],
   "source": [
    "#Q6 what is the type of each value"
   ]
  },
  {
   "cell_type": "code",
   "execution_count": 22,
   "id": "870faaba",
   "metadata": {},
   "outputs": [
    {
     "data": {
      "text/plain": [
       "[str, str, str, int, int, int]"
      ]
     },
     "execution_count": 22,
     "metadata": {},
     "output_type": "execute_result"
    }
   ],
   "source": [
    "list(map(type, myTuple))"
   ]
  },
  {
   "cell_type": "code",
   "execution_count": 23,
   "id": "7bc787fd",
   "metadata": {},
   "outputs": [],
   "source": [
    "#Q7 unpack myTuple in the follwoeing variables name,program,dayName,month,day,year\n",
    "# print the variables "
   ]
  },
  {
   "cell_type": "code",
   "execution_count": 25,
   "id": "8321e604",
   "metadata": {},
   "outputs": [],
   "source": [
    "(name,program,dayName,month,day,year) = myTuple"
   ]
  },
  {
   "cell_type": "code",
   "execution_count": 26,
   "id": "cb145b53",
   "metadata": {},
   "outputs": [
    {
     "data": {
      "text/plain": [
       "'NPower'"
      ]
     },
     "execution_count": 26,
     "metadata": {},
     "output_type": "execute_result"
    }
   ],
   "source": [
    "name"
   ]
  },
  {
   "cell_type": "code",
   "execution_count": 27,
   "id": "2de9e82f",
   "metadata": {},
   "outputs": [
    {
     "data": {
      "text/plain": [
       "('NPower', 'JDA', 'Tuesday', 30, 31, 2021)"
      ]
     },
     "execution_count": 27,
     "metadata": {},
     "output_type": "execute_result"
    }
   ],
   "source": [
    "(name,program,dayName,month,day,year)"
   ]
  },
  {
   "cell_type": "code",
   "execution_count": 30,
   "id": "dfd4a3a6",
   "metadata": {},
   "outputs": [
    {
     "name": "stdout",
     "output_type": "stream",
     "text": [
      "NPower\n",
      "JDA\n",
      "Tuesday\n",
      "30\n",
      "31\n",
      "2021\n"
     ]
    }
   ],
   "source": [
    "print(name)\n",
    "print(program)\n",
    "print(dayName)\n",
    "print(month)\n",
    "print(day)\n",
    "print(year)"
   ]
  },
  {
   "cell_type": "code",
   "execution_count": 31,
   "id": "1abf0ce8",
   "metadata": {},
   "outputs": [],
   "source": [
    "#Q8 unpack myTuple2 in the follwoing variables name,program,dayName.\n",
    "# What will happen to variables (name,program,dayName) and (month,day,year)"
   ]
  },
  {
   "cell_type": "code",
   "execution_count": 32,
   "id": "3124de6d",
   "metadata": {},
   "outputs": [
    {
     "ename": "NameError",
     "evalue": "name 'myTuple2' is not defined",
     "output_type": "error",
     "traceback": [
      "\u001b[0;31m---------------------------------------------------------------------------\u001b[0m",
      "\u001b[0;31mNameError\u001b[0m                                 Traceback (most recent call last)",
      "\u001b[0;32m/var/folders/mj/61xxtxsj0y36rn032rt2fhbc0000gn/T/ipykernel_4424/3555588192.py\u001b[0m in \u001b[0;36m<module>\u001b[0;34m\u001b[0m\n\u001b[0;32m----> 1\u001b[0;31m \u001b[0;34m(\u001b[0m\u001b[0mname\u001b[0m\u001b[0;34m,\u001b[0m\u001b[0mprogram\u001b[0m\u001b[0;34m,\u001b[0m\u001b[0mdayName\u001b[0m\u001b[0;34m)\u001b[0m \u001b[0;34m=\u001b[0m \u001b[0mmyTuple2\u001b[0m\u001b[0;34m\u001b[0m\u001b[0;34m\u001b[0m\u001b[0m\n\u001b[0m",
      "\u001b[0;31mNameError\u001b[0m: name 'myTuple2' is not defined"
     ]
    }
   ],
   "source": [
    "(name,program,dayName) = myTuple2 "
   ]
  },
  {
   "cell_type": "code",
   "execution_count": 33,
   "id": "c929b91b",
   "metadata": {},
   "outputs": [
    {
     "name": "stdout",
     "output_type": "stream",
     "text": [
      "Type a <class 'str'>\n",
      "Jerry 2 89\n",
      "<class 'tuple'>\n",
      "('Ulan',)\n",
      "Leul\n"
     ]
    }
   ],
   "source": [
    "# Note the following\n",
    "Tuple1=(\"Jerry\",2,89) #This is a tuple with 3 elements\n",
    "Tuple2=(\"Ulan\",)#This is a tuple with 1 element\n",
    "test=\"Leul\" #This is a VARIABLE with string value\n",
    "a,b,c=Tuple1\n",
    "print(\"Type a\",type(a))\n",
    "print(a,b,c)\n",
    "d=Tuple2\n",
    "print(type(d))\n",
    "print(d)\n",
    "e=test\n",
    "print(e)"
   ]
  },
  {
   "cell_type": "code",
   "execution_count": 35,
   "id": "0161917a",
   "metadata": {},
   "outputs": [
    {
     "name": "stdout",
     "output_type": "stream",
     "text": [
      "(1, 2, 3)\n",
      "(4, 5, 6)\n"
     ]
    },
    {
     "ename": "TypeError",
     "evalue": "'tuple' object does not support item assignment",
     "output_type": "error",
     "traceback": [
      "\u001b[0;31m---------------------------------------------------------------------------\u001b[0m",
      "\u001b[0;31mTypeError\u001b[0m                                 Traceback (most recent call last)",
      "\u001b[0;32m/var/folders/mj/61xxtxsj0y36rn032rt2fhbc0000gn/T/ipykernel_4424/1013918354.py\u001b[0m in \u001b[0;36m<module>\u001b[0;34m\u001b[0m\n\u001b[1;32m      7\u001b[0m \u001b[0mprint\u001b[0m\u001b[0;34m(\u001b[0m\u001b[0mtestTuple\u001b[0m\u001b[0;34m)\u001b[0m\u001b[0;34m\u001b[0m\u001b[0;34m\u001b[0m\u001b[0m\n\u001b[1;32m      8\u001b[0m \u001b[0;31m#But we can't change or edit a value for the existing tuple\u001b[0m\u001b[0;34m\u001b[0m\u001b[0;34m\u001b[0m\u001b[0m\n\u001b[0;32m----> 9\u001b[0;31m \u001b[0mtestTuple\u001b[0m\u001b[0;34m[\u001b[0m\u001b[0;36m0\u001b[0m\u001b[0;34m]\u001b[0m\u001b[0;34m=\u001b[0m\u001b[0;36m6\u001b[0m \u001b[0;31m#ERROR 'tuple' object does not support item assignment\u001b[0m\u001b[0;34m\u001b[0m\u001b[0;34m\u001b[0m\u001b[0m\n\u001b[0m",
      "\u001b[0;31mTypeError\u001b[0m: 'tuple' object does not support item assignment"
     ]
    }
   ],
   "source": [
    "#-------------------------Tuples are immutable------------------------------------------------\n",
    "#we can always make the testTuple variable reference a new tuple in the memory\n",
    "#and hold a different information\n",
    "testTuple=(1,2,3)\n",
    "print(testTuple)\n",
    "testTuple=(4,5,6)\n",
    "print(testTuple)\n",
    "#But we can't change or edit a value for the existing tuple\n",
    "testTuple[0]=6 #ERROR 'tuple' object does not support item assignment"
   ]
  },
  {
   "cell_type": "code",
   "execution_count": 36,
   "id": "639da2b3",
   "metadata": {},
   "outputs": [],
   "source": [
    "#Q9 Reverse myTuple, output should looks like (2021,3,30,\"Tuesday\",\"JDA\",\"NPower\")"
   ]
  },
  {
   "cell_type": "code",
   "execution_count": 41,
   "id": "7a446ddf",
   "metadata": {},
   "outputs": [
    {
     "data": {
      "text/plain": [
       "(2021, 31, 30, 'Tuesday', 'JDA', 'NPower')"
      ]
     },
     "execution_count": 41,
     "metadata": {},
     "output_type": "execute_result"
    }
   ],
   "source": [
    "myTuple[-1:-7:-1]"
   ]
  },
  {
   "cell_type": "code",
   "execution_count": 42,
   "id": "1e1c2bc5",
   "metadata": {},
   "outputs": [
    {
     "data": {
      "text/plain": [
       "(2021, 31, 30, 'Tuesday', 'JDA', 'NPower')"
      ]
     },
     "execution_count": 42,
     "metadata": {},
     "output_type": "execute_result"
    }
   ],
   "source": [
    "myTuple[::-1]"
   ]
  },
  {
   "cell_type": "code",
   "execution_count": 43,
   "id": "dbf25379",
   "metadata": {},
   "outputs": [],
   "source": [
    "#Q10 Create nestedTuple=((\"Coursera\",\"course\",6),(\"week\",(2,\"Lists\",\"Tuple\")))"
   ]
  },
  {
   "cell_type": "code",
   "execution_count": 44,
   "id": "808d4c61",
   "metadata": {},
   "outputs": [],
   "source": [
    "nestedTuple=((\"Coursera\",\"course\",6),(\"week\",(2,\"Lists\",\"Tuple\")))"
   ]
  },
  {
   "cell_type": "code",
   "execution_count": 45,
   "id": "1235312f",
   "metadata": {},
   "outputs": [
    {
     "data": {
      "text/plain": [
       "(('Coursera', 'course', 6), ('week', (2, 'Lists', 'Tuple')))"
      ]
     },
     "execution_count": 45,
     "metadata": {},
     "output_type": "execute_result"
    }
   ],
   "source": [
    "nestedTuple"
   ]
  },
  {
   "cell_type": "code",
   "execution_count": 46,
   "id": "1c733b96",
   "metadata": {},
   "outputs": [],
   "source": [
    "#Q11 What is the output of nestedTuple[1:2]"
   ]
  },
  {
   "cell_type": "code",
   "execution_count": 47,
   "id": "bb3e21d2",
   "metadata": {},
   "outputs": [
    {
     "data": {
      "text/plain": [
       "(('week', (2, 'Lists', 'Tuple')),)"
      ]
     },
     "execution_count": 47,
     "metadata": {},
     "output_type": "execute_result"
    }
   ],
   "source": [
    "nestedTuple[1:2]"
   ]
  },
  {
   "cell_type": "code",
   "execution_count": 48,
   "id": "0aae073e",
   "metadata": {},
   "outputs": [],
   "source": [
    "#Q12 print each element in the nestedTuple"
   ]
  },
  {
   "cell_type": "code",
   "execution_count": 50,
   "id": "9ddb348e",
   "metadata": {},
   "outputs": [
    {
     "data": {
      "text/plain": [
       "(('Coursera', 'course', 6), ('week', (2, 'Lists', 'Tuple')))"
      ]
     },
     "execution_count": 50,
     "metadata": {},
     "output_type": "execute_result"
    }
   ],
   "source": [
    "nestedTuple"
   ]
  },
  {
   "cell_type": "code",
   "execution_count": 51,
   "id": "f00daa31",
   "metadata": {},
   "outputs": [],
   "source": [
    "#Q13 Access (2,\"Lists\",\"Tuple\") from nestedTuple"
   ]
  },
  {
   "cell_type": "code",
   "execution_count": 53,
   "id": "829abef8",
   "metadata": {},
   "outputs": [
    {
     "data": {
      "text/plain": [
       "(2, 'Lists', 'Tuple')"
      ]
     },
     "execution_count": 53,
     "metadata": {},
     "output_type": "execute_result"
    }
   ],
   "source": [
    "nestedTuple[1][1]"
   ]
  },
  {
   "cell_type": "code",
   "execution_count": 54,
   "id": "c23900ad",
   "metadata": {},
   "outputs": [],
   "source": [
    "#Q14 Access the value \"Lists\" from nestedTuple"
   ]
  },
  {
   "cell_type": "code",
   "execution_count": 55,
   "id": "d8a92c57",
   "metadata": {},
   "outputs": [
    {
     "data": {
      "text/plain": [
       "'Lists'"
      ]
     },
     "execution_count": 55,
     "metadata": {},
     "output_type": "execute_result"
    }
   ],
   "source": [
    "nestedTuple[1][1][1]"
   ]
  },
  {
   "cell_type": "code",
   "execution_count": 56,
   "id": "f4d126e0",
   "metadata": {},
   "outputs": [],
   "source": [
    "#Q15 Access the value \"Tuple\" from nestedTuple"
   ]
  },
  {
   "cell_type": "code",
   "execution_count": 57,
   "id": "f81276dd",
   "metadata": {},
   "outputs": [
    {
     "data": {
      "text/plain": [
       "'Tuple'"
      ]
     },
     "execution_count": 57,
     "metadata": {},
     "output_type": "execute_result"
    }
   ],
   "source": [
    "nestedTuple[1][1][2]"
   ]
  },
  {
   "cell_type": "code",
   "execution_count": 59,
   "id": "f0338675",
   "metadata": {},
   "outputs": [],
   "source": [
    "#Q16 Access the value \"course\" from nestedTuple"
   ]
  },
  {
   "cell_type": "code",
   "execution_count": 61,
   "id": "55b0e953",
   "metadata": {},
   "outputs": [
    {
     "data": {
      "text/plain": [
       "'course'"
      ]
     },
     "execution_count": 61,
     "metadata": {},
     "output_type": "execute_result"
    }
   ],
   "source": [
    "nestedTuple[0][1]"
   ]
  },
  {
   "cell_type": "code",
   "execution_count": 62,
   "id": "207e94db",
   "metadata": {},
   "outputs": [],
   "source": [
    "#Q17 Concatenate myTuple with nestedTuple"
   ]
  },
  {
   "cell_type": "code",
   "execution_count": 64,
   "id": "8a1609d5",
   "metadata": {},
   "outputs": [],
   "source": [
    "newTuple = myTuple + nestedTuple"
   ]
  },
  {
   "cell_type": "code",
   "execution_count": 65,
   "id": "299b6cfe",
   "metadata": {},
   "outputs": [
    {
     "data": {
      "text/plain": [
       "('NPower',\n",
       " 'JDA',\n",
       " 'Tuesday',\n",
       " 30,\n",
       " 31,\n",
       " 2021,\n",
       " ('Coursera', 'course', 6),\n",
       " ('week', (2, 'Lists', 'Tuple')))"
      ]
     },
     "execution_count": 65,
     "metadata": {},
     "output_type": "execute_result"
    }
   ],
   "source": [
    "newTuple"
   ]
  },
  {
   "cell_type": "code",
   "execution_count": 66,
   "id": "b2a63772",
   "metadata": {},
   "outputs": [],
   "source": [
    "#Q18 add your name to the tuple"
   ]
  },
  {
   "cell_type": "code",
   "execution_count": 69,
   "id": "f6547fd6",
   "metadata": {},
   "outputs": [
    {
     "data": {
      "text/plain": [
       "(('NPower',\n",
       "  'JDA',\n",
       "  'Tuesday',\n",
       "  30,\n",
       "  31,\n",
       "  2021,\n",
       "  ('Coursera', 'course', 6),\n",
       "  ('week', (2, 'Lists', 'Tuple'))),\n",
       " 'Chandni')"
      ]
     },
     "execution_count": 69,
     "metadata": {},
     "output_type": "execute_result"
    }
   ],
   "source": [
    "name = ('Chandni')\n",
    "newTuple = (newTuple, name)\n",
    "newTuple"
   ]
  },
  {
   "cell_type": "code",
   "execution_count": 70,
   "id": "6d817040",
   "metadata": {},
   "outputs": [],
   "source": [
    "#Q19 check whether Coursera exists within myTuple\n",
    "# NOTE \"in\" doesn't work properly with nested tuples"
   ]
  },
  {
   "cell_type": "code",
   "execution_count": 78,
   "id": "404f0130",
   "metadata": {},
   "outputs": [
    {
     "data": {
      "text/plain": [
       "False"
      ]
     },
     "execution_count": 78,
     "metadata": {},
     "output_type": "execute_result"
    }
   ],
   "source": [
    "'Coursera' in myTuple # find its solution ...its wrong"
   ]
  },
  {
   "cell_type": "code",
   "execution_count": 73,
   "id": "8acc916b",
   "metadata": {},
   "outputs": [],
   "source": [
    "#Q20 check whether 55 exists within testTuple\n",
    "testTuple=(1,2,33,55,6,55)"
   ]
  },
  {
   "cell_type": "code",
   "execution_count": 75,
   "id": "5dceda30",
   "metadata": {},
   "outputs": [
    {
     "name": "stdout",
     "output_type": "stream",
     "text": [
      "Number exists\n"
     ]
    }
   ],
   "source": [
    "number=55\n",
    "for number in testTuple:\n",
    "     print(\"Number exists\")\n",
    "     break;"
   ]
  },
  {
   "cell_type": "code",
   "execution_count": 79,
   "id": "23d00e63",
   "metadata": {},
   "outputs": [],
   "source": [
    "#Q21 Find the index of JDA in myTuple\n",
    "# Find the index of 'Coursera' in myTuple\n",
    "# NOTE index doesn't work properly with nested tuples # Wrong output"
   ]
  },
  {
   "cell_type": "code",
   "execution_count": 84,
   "id": "2d1a7740",
   "metadata": {},
   "outputs": [
    {
     "ename": "ValueError",
     "evalue": "tuple.index(x): x not in tuple",
     "output_type": "error",
     "traceback": [
      "\u001b[0;31m---------------------------------------------------------------------------\u001b[0m",
      "\u001b[0;31mValueError\u001b[0m                                Traceback (most recent call last)",
      "\u001b[0;32m/var/folders/mj/61xxtxsj0y36rn032rt2fhbc0000gn/T/ipykernel_4424/77325072.py\u001b[0m in \u001b[0;36m<module>\u001b[0;34m\u001b[0m\n\u001b[0;32m----> 1\u001b[0;31m \u001b[0mnewTuple\u001b[0m\u001b[0;34m.\u001b[0m\u001b[0mindex\u001b[0m\u001b[0;34m(\u001b[0m\u001b[0;34m'JDA'\u001b[0m\u001b[0;34m)\u001b[0m\u001b[0;34m\u001b[0m\u001b[0;34m\u001b[0m\u001b[0m\n\u001b[0m\u001b[1;32m      2\u001b[0m \u001b[0mnewTuple\u001b[0m\u001b[0;34m.\u001b[0m\u001b[0mindex\u001b[0m\u001b[0;34m(\u001b[0m\u001b[0;34m'Coursera'\u001b[0m\u001b[0;34m)\u001b[0m\u001b[0;34m\u001b[0m\u001b[0;34m\u001b[0m\u001b[0m\n",
      "\u001b[0;31mValueError\u001b[0m: tuple.index(x): x not in tuple"
     ]
    }
   ],
   "source": [
    "newTuple.index('JDA')\n",
    "newTuple.index('Coursera')"
   ]
  },
  {
   "cell_type": "code",
   "execution_count": 85,
   "id": "030e5e9a",
   "metadata": {},
   "outputs": [
    {
     "ename": "IndexError",
     "evalue": "tuple index out of range",
     "output_type": "error",
     "traceback": [
      "\u001b[0;31m---------------------------------------------------------------------------\u001b[0m",
      "\u001b[0;31mIndexError\u001b[0m                                Traceback (most recent call last)",
      "\u001b[0;32m/var/folders/mj/61xxtxsj0y36rn032rt2fhbc0000gn/T/ipykernel_4424/1163292033.py\u001b[0m in \u001b[0;36m<module>\u001b[0;34m\u001b[0m\n\u001b[1;32m      1\u001b[0m \u001b[0;31m#Q22 print index 8 from newTuple\u001b[0m\u001b[0;34m\u001b[0m\u001b[0;34m\u001b[0m\u001b[0m\n\u001b[0;32m----> 2\u001b[0;31m \u001b[0mnewTuple\u001b[0m\u001b[0;34m[\u001b[0m\u001b[0;36m8\u001b[0m\u001b[0;34m]\u001b[0m\u001b[0;34m\u001b[0m\u001b[0;34m\u001b[0m\u001b[0m\n\u001b[0m",
      "\u001b[0;31mIndexError\u001b[0m: tuple index out of range"
     ]
    }
   ],
   "source": [
    "#Q22 print index 8 from newTuple\n",
    "newTuple[8]"
   ]
  },
  {
   "cell_type": "code",
   "execution_count": 86,
   "id": "ccdb710b",
   "metadata": {},
   "outputs": [],
   "source": [
    "#Q23 Get the 4th element from the begining of myTuple and 4th element from last "
   ]
  },
  {
   "cell_type": "code",
   "execution_count": 91,
   "id": "15f162d0",
   "metadata": {},
   "outputs": [
    {
     "data": {
      "text/plain": [
       "30"
      ]
     },
     "execution_count": 91,
     "metadata": {},
     "output_type": "execute_result"
    }
   ],
   "source": [
    "newTuple[0][3]"
   ]
  },
  {
   "cell_type": "code",
   "execution_count": 101,
   "id": "fc974669",
   "metadata": {},
   "outputs": [
    {
     "data": {
      "text/plain": [
       "2"
      ]
     },
     "execution_count": 101,
     "metadata": {},
     "output_type": "execute_result"
    }
   ],
   "source": [
    "newTuple[0][7][1][0]"
   ]
  },
  {
   "cell_type": "markdown",
   "id": "ec368dc7",
   "metadata": {},
   "source": [
    "## "
   ]
  },
  {
   "cell_type": "code",
   "execution_count": 102,
   "id": "7b544249",
   "metadata": {},
   "outputs": [
    {
     "data": {
      "text/plain": [
       "2"
      ]
     },
     "execution_count": 102,
     "metadata": {},
     "output_type": "execute_result"
    }
   ],
   "source": [
    "#Q24 Find how many times 55 appeared in testTuple [Hint: Use method count()]\n",
    "testTuple.count(55)"
   ]
  },
  {
   "cell_type": "code",
   "execution_count": null,
   "id": "e1bbed81",
   "metadata": {},
   "outputs": [],
   "source": []
  }
 ],
 "metadata": {
  "kernelspec": {
   "display_name": "Python 3 (ipykernel)",
   "language": "python",
   "name": "python3"
  },
  "language_info": {
   "codemirror_mode": {
    "name": "ipython",
    "version": 3
   },
   "file_extension": ".py",
   "mimetype": "text/x-python",
   "name": "python",
   "nbconvert_exporter": "python",
   "pygments_lexer": "ipython3",
   "version": "3.9.7"
  }
 },
 "nbformat": 4,
 "nbformat_minor": 5
}
