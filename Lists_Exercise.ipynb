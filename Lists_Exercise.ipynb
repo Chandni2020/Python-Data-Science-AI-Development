{
 "cells": [
  {
   "cell_type": "code",
   "execution_count": 1,
   "id": "b353de95",
   "metadata": {},
   "outputs": [],
   "source": [
    "#Q1 Create a tuple with all participant names in the JDA program"
   ]
  },
  {
   "cell_type": "code",
   "execution_count": 2,
   "id": "2aa7d9a3",
   "metadata": {},
   "outputs": [],
   "source": [
    "t_section= ('Chandni','Ishwarya', 'Maheshwari', 'Taumeca', 'William')"
   ]
  },
  {
   "cell_type": "code",
   "execution_count": 3,
   "id": "43fbd04b",
   "metadata": {},
   "outputs": [
    {
     "data": {
      "text/plain": [
       "('Chandni', 'Ishwarya', 'Maheshwari', 'Taumeca', 'William')"
      ]
     },
     "execution_count": 3,
     "metadata": {},
     "output_type": "execute_result"
    }
   ],
   "source": [
    "t_section"
   ]
  },
  {
   "cell_type": "code",
   "execution_count": 4,
   "id": "8c37456e",
   "metadata": {},
   "outputs": [],
   "source": [
    "#Q2 Convert the tuple into a list called pps_L"
   ]
  },
  {
   "cell_type": "code",
   "execution_count": 5,
   "id": "a834bbd7",
   "metadata": {},
   "outputs": [],
   "source": [
    "pps_L= list(t_section) "
   ]
  },
  {
   "cell_type": "code",
   "execution_count": 6,
   "id": "f8426188",
   "metadata": {},
   "outputs": [
    {
     "data": {
      "text/plain": [
       "['Chandni', 'Ishwarya', 'Maheshwari', 'Taumeca', 'William']"
      ]
     },
     "execution_count": 6,
     "metadata": {},
     "output_type": "execute_result"
    }
   ],
   "source": [
    "pps_L"
   ]
  },
  {
   "cell_type": "code",
   "execution_count": 7,
   "id": "43589645",
   "metadata": {},
   "outputs": [],
   "source": [
    "#Q3 What is the length of your list"
   ]
  },
  {
   "cell_type": "code",
   "execution_count": 8,
   "id": "a51ef7bf",
   "metadata": {},
   "outputs": [
    {
     "data": {
      "text/plain": [
       "5"
      ]
     },
     "execution_count": 8,
     "metadata": {},
     "output_type": "execute_result"
    }
   ],
   "source": [
    "len(pps_L)"
   ]
  },
  {
   "cell_type": "code",
   "execution_count": 9,
   "id": "560aa990",
   "metadata": {},
   "outputs": [],
   "source": [
    "#Q4 Find the values stored in indexes [3],[5],[14],[30],[38] "
   ]
  },
  {
   "cell_type": "code",
   "execution_count": 10,
   "id": "d40bbaba",
   "metadata": {},
   "outputs": [
    {
     "name": "stdout",
     "output_type": "stream",
     "text": [
      "Taumeca\n"
     ]
    }
   ],
   "source": [
    "print(pps_L[3]) # I have created a smaall list here"
   ]
  },
  {
   "cell_type": "code",
   "execution_count": 11,
   "id": "adad25bc",
   "metadata": {},
   "outputs": [
    {
     "data": {
      "text/plain": [
       "'Maheshwari'"
      ]
     },
     "execution_count": 11,
     "metadata": {},
     "output_type": "execute_result"
    }
   ],
   "source": [
    "pps_L[2]"
   ]
  },
  {
   "cell_type": "code",
   "execution_count": 12,
   "id": "cbf95062",
   "metadata": {},
   "outputs": [],
   "source": [
    "#Q5 Check if \"Sarah\" is in the list"
   ]
  },
  {
   "cell_type": "code",
   "execution_count": 13,
   "id": "dd4758c1",
   "metadata": {},
   "outputs": [
    {
     "data": {
      "text/plain": [
       "False"
      ]
     },
     "execution_count": 13,
     "metadata": {},
     "output_type": "execute_result"
    }
   ],
   "source": [
    "'Sarah' in pps_L"
   ]
  },
  {
   "cell_type": "code",
   "execution_count": 14,
   "id": "5a5060ed",
   "metadata": {},
   "outputs": [],
   "source": [
    "#Q6 Add \"Sarah\" to your list"
   ]
  },
  {
   "cell_type": "code",
   "execution_count": 15,
   "id": "f26a7a04",
   "metadata": {},
   "outputs": [],
   "source": [
    "pps_L.append('Sarah')"
   ]
  },
  {
   "cell_type": "code",
   "execution_count": 16,
   "id": "91c382ce",
   "metadata": {},
   "outputs": [
    {
     "data": {
      "text/plain": [
       "['Chandni', 'Ishwarya', 'Maheshwari', 'Taumeca', 'William', 'Sarah']"
      ]
     },
     "execution_count": 16,
     "metadata": {},
     "output_type": "execute_result"
    }
   ],
   "source": [
    "pps_L"
   ]
  },
  {
   "cell_type": "code",
   "execution_count": 17,
   "id": "e59b1639",
   "metadata": {},
   "outputs": [],
   "source": [
    "#Q7 Check if \"Bashir\" is in the list"
   ]
  },
  {
   "cell_type": "code",
   "execution_count": 18,
   "id": "3b7e3fa9",
   "metadata": {},
   "outputs": [
    {
     "data": {
      "text/plain": [
       "False"
      ]
     },
     "execution_count": 18,
     "metadata": {},
     "output_type": "execute_result"
    }
   ],
   "source": [
    "'Bashir' in pps_L"
   ]
  },
  {
   "cell_type": "code",
   "execution_count": 19,
   "id": "3edfcf15",
   "metadata": {},
   "outputs": [],
   "source": [
    "#Q9 Add \"Bashir\" to your list"
   ]
  },
  {
   "cell_type": "code",
   "execution_count": 20,
   "id": "7792e6c9",
   "metadata": {},
   "outputs": [],
   "source": [
    "pps_L.append('Bashir')"
   ]
  },
  {
   "cell_type": "code",
   "execution_count": 21,
   "id": "3e0dab47",
   "metadata": {},
   "outputs": [
    {
     "name": "stdout",
     "output_type": "stream",
     "text": [
      "['Chandni', 'Ishwarya', 'Maheshwari', 'Taumeca', 'William', 'Sarah', 'Bashir']\n"
     ]
    }
   ],
   "source": [
    "print(pps_L)"
   ]
  },
  {
   "cell_type": "code",
   "execution_count": 22,
   "id": "6ebc5e1e",
   "metadata": {},
   "outputs": [],
   "source": [
    "#Q10 Find the index of the element \"Sarah\" in the list"
   ]
  },
  {
   "cell_type": "code",
   "execution_count": 23,
   "id": "73ca38c6",
   "metadata": {},
   "outputs": [
    {
     "data": {
      "text/plain": [
       "5"
      ]
     },
     "execution_count": 23,
     "metadata": {},
     "output_type": "execute_result"
    }
   ],
   "source": [
    "pps_L.index('Sarah')"
   ]
  },
  {
   "cell_type": "code",
   "execution_count": 24,
   "id": "85b191e1",
   "metadata": {},
   "outputs": [],
   "source": [
    "#Q11 Change the value of the index in Q10 from \"Sarah\" to \"Instructor\""
   ]
  },
  {
   "cell_type": "code",
   "execution_count": 25,
   "id": "b86ff3e5",
   "metadata": {},
   "outputs": [
    {
     "name": "stdout",
     "output_type": "stream",
     "text": [
      "['Chandni', 'Ishwarya', 'Maheshwari', 'Taumeca', 'William', 'Instructor', 'Bashir']\n"
     ]
    }
   ],
   "source": [
    "pps_L[5] = ('Instructor')\n",
    "print(pps_L)"
   ]
  },
  {
   "cell_type": "code",
   "execution_count": 26,
   "id": "cf12b837",
   "metadata": {},
   "outputs": [
    {
     "data": {
      "text/plain": [
       "True"
      ]
     },
     "execution_count": 26,
     "metadata": {},
     "output_type": "execute_result"
    }
   ],
   "source": [
    "'Instructor'in (pps_L)"
   ]
  },
  {
   "cell_type": "code",
   "execution_count": 27,
   "id": "9627d972",
   "metadata": {},
   "outputs": [
    {
     "data": {
      "text/plain": [
       "5"
      ]
     },
     "execution_count": 27,
     "metadata": {},
     "output_type": "execute_result"
    }
   ],
   "source": [
    "pps_L.index('Instructor')"
   ]
  },
  {
   "cell_type": "code",
   "execution_count": 28,
   "id": "6981d59d",
   "metadata": {},
   "outputs": [],
   "source": [
    "#Q12 Find the index of the element \"Bashir\" in the list"
   ]
  },
  {
   "cell_type": "code",
   "execution_count": 29,
   "id": "f055fa6d",
   "metadata": {},
   "outputs": [
    {
     "data": {
      "text/plain": [
       "6"
      ]
     },
     "execution_count": 29,
     "metadata": {},
     "output_type": "execute_result"
    }
   ],
   "source": [
    "pps_L.index('Bashir')"
   ]
  },
  {
   "cell_type": "code",
   "execution_count": 30,
   "id": "8d9e4ee0",
   "metadata": {},
   "outputs": [],
   "source": [
    "#Q13 Change the value of the index in Q12 from \"Bashir\" to \"Peer-Mentor\""
   ]
  },
  {
   "cell_type": "code",
   "execution_count": 31,
   "id": "1b01ada0",
   "metadata": {},
   "outputs": [],
   "source": [
    "pps_L[6] = 'Peer-Mentor'"
   ]
  },
  {
   "cell_type": "code",
   "execution_count": 32,
   "id": "fcd28d84",
   "metadata": {},
   "outputs": [
    {
     "name": "stdout",
     "output_type": "stream",
     "text": [
      "['Chandni', 'Ishwarya', 'Maheshwari', 'Taumeca', 'William', 'Instructor', 'Peer-Mentor']\n"
     ]
    },
    {
     "data": {
      "text/plain": [
       "'Peer-Mentor'"
      ]
     },
     "execution_count": 32,
     "metadata": {},
     "output_type": "execute_result"
    }
   ],
   "source": [
    "print(pps_L)\n",
    "\n",
    "pps_L[6]"
   ]
  },
  {
   "cell_type": "code",
   "execution_count": null,
   "id": "a85f2e4a",
   "metadata": {},
   "outputs": [],
   "source": []
  },
  {
   "cell_type": "code",
   "execution_count": null,
   "id": "49513940",
   "metadata": {},
   "outputs": [],
   "source": []
  },
  {
   "cell_type": "code",
   "execution_count": null,
   "id": "6ade5ed6",
   "metadata": {},
   "outputs": [],
   "source": []
  }
 ],
 "metadata": {
  "kernelspec": {
   "display_name": "Python 3 (ipykernel)",
   "language": "python",
   "name": "python3"
  },
  "language_info": {
   "codemirror_mode": {
    "name": "ipython",
    "version": 3
   },
   "file_extension": ".py",
   "mimetype": "text/x-python",
   "name": "python",
   "nbconvert_exporter": "python",
   "pygments_lexer": "ipython3",
   "version": "3.9.7"
  }
 },
 "nbformat": 4,
 "nbformat_minor": 5
}
