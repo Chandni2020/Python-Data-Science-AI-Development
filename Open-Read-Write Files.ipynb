{
 "cells": [
  {
   "cell_type": "code",
   "execution_count": 1,
   "id": "63f772ba",
   "metadata": {},
   "outputs": [],
   "source": [
    "########-----------------------Reading Text Files--------------------------#############"
   ]
  },
  {
   "cell_type": "code",
   "execution_count": 2,
   "id": "723ce425",
   "metadata": {},
   "outputs": [],
   "source": [
    "#We read the file:\n",
    "# Read the Example1.txt\n",
    "example1 = \"Example1.txt\"\n",
    "file1 = open(example1, \"r\")"
   ]
  },
  {
   "cell_type": "code",
   "execution_count": 3,
   "id": "f82c330b",
   "metadata": {},
   "outputs": [
    {
     "data": {
      "text/plain": [
       "'Example1.txt'"
      ]
     },
     "execution_count": 3,
     "metadata": {},
     "output_type": "execute_result"
    }
   ],
   "source": [
    "example1"
   ]
  },
  {
   "cell_type": "code",
   "execution_count": 4,
   "id": "c677b527",
   "metadata": {},
   "outputs": [
    {
     "data": {
      "text/plain": [
       "'Example1.txt'"
      ]
     },
     "execution_count": 4,
     "metadata": {},
     "output_type": "execute_result"
    }
   ],
   "source": [
    "#The name of the file:\n",
    "# Print the path of file\n",
    "\n",
    "file1.name"
   ]
  },
  {
   "cell_type": "code",
   "execution_count": 5,
   "id": "b93c87ad",
   "metadata": {},
   "outputs": [],
   "source": [
    "#The mode the file object is in:\n",
    "# Print the mode of file, either 'r' or 'w'"
   ]
  },
  {
   "cell_type": "code",
   "execution_count": 6,
   "id": "b216e97a",
   "metadata": {},
   "outputs": [
    {
     "data": {
      "text/plain": [
       "'r'"
      ]
     },
     "execution_count": 6,
     "metadata": {},
     "output_type": "execute_result"
    }
   ],
   "source": [
    "file1.mode"
   ]
  },
  {
   "cell_type": "code",
   "execution_count": 7,
   "id": "8b02d996",
   "metadata": {},
   "outputs": [],
   "source": [
    "#We can read the file and assign it to a variable :\n",
    "# Read the file"
   ]
  },
  {
   "cell_type": "code",
   "execution_count": 8,
   "id": "33449dd3",
   "metadata": {},
   "outputs": [
    {
     "data": {
      "text/plain": [
       "'This is Line 1\\nThis is line 2\\nThis is line \\n\\n\\nHi, My name is Chandni Parmar.\\nI am a student of NPower GTA West A cohort.\\nI am doing Junior Data Analyst Program.\\nI want to transfer my field from Science background to IT. \\nMy long term goal is to become Data Scientist.'"
      ]
     },
     "execution_count": 8,
     "metadata": {},
     "output_type": "execute_result"
    }
   ],
   "source": [
    "FileContent = file1.read()\n",
    "FileContent"
   ]
  },
  {
   "cell_type": "code",
   "execution_count": 9,
   "id": "97ded1be",
   "metadata": {},
   "outputs": [
    {
     "name": "stdout",
     "output_type": "stream",
     "text": [
      "This is Line 1\n",
      "This is line 2\n",
      "This is line \n",
      "\n",
      "\n",
      "Hi, My name is Chandni Parmar.\n",
      "I am a student of NPower GTA West A cohort.\n",
      "I am doing Junior Data Analyst Program.\n",
      "I want to transfer my field from Science background to IT. \n",
      "My long term goal is to become Data Scientist.\n"
     ]
    }
   ],
   "source": [
    "#We can print the file:\n",
    "print(FileContent)"
   ]
  },
  {
   "cell_type": "code",
   "execution_count": 10,
   "id": "a20e9e33",
   "metadata": {},
   "outputs": [],
   "source": [
    "#The file is of type string:\n",
    "# Type of file content"
   ]
  },
  {
   "cell_type": "code",
   "execution_count": 11,
   "id": "e04b9360",
   "metadata": {},
   "outputs": [
    {
     "data": {
      "text/plain": [
       "str"
      ]
     },
     "execution_count": 11,
     "metadata": {},
     "output_type": "execute_result"
    }
   ],
   "source": [
    "type(FileContent)"
   ]
  },
  {
   "cell_type": "code",
   "execution_count": 12,
   "id": "527dd126",
   "metadata": {},
   "outputs": [],
   "source": [
    "#It is very important that the file is closed in the end. \n",
    "#This frees up resources and ensures consistency across different python versions.\n",
    "## Close file after finish"
   ]
  },
  {
   "cell_type": "code",
   "execution_count": 13,
   "id": "99e14702",
   "metadata": {},
   "outputs": [],
   "source": [
    "file1.close()"
   ]
  },
  {
   "cell_type": "code",
   "execution_count": 14,
   "id": "bb6c5f6e",
   "metadata": {},
   "outputs": [],
   "source": [
    "############------------------A Better Way to Open a File---------------------###################"
   ]
  },
  {
   "cell_type": "code",
   "execution_count": 15,
   "id": "9b2ee134",
   "metadata": {},
   "outputs": [],
   "source": [
    "# Open file using with"
   ]
  },
  {
   "cell_type": "code",
   "execution_count": 16,
   "id": "31e694e1",
   "metadata": {},
   "outputs": [
    {
     "name": "stdout",
     "output_type": "stream",
     "text": [
      "This is Line 1\n",
      "This is line 2\n",
      "This is line \n",
      "\n",
      "\n",
      "Hi, My name is Chandni Parmar.\n",
      "I am a student of NPower GTA West A cohort.\n",
      "I am doing Junior Data Analyst Program.\n",
      "I want to transfer my field from Science background to IT. \n",
      "My long term goal is to become Data Scientist.\n"
     ]
    }
   ],
   "source": [
    "with open (example1, \"r\") as file1:\n",
    "    FileContent = file1.read()\n",
    "    print(FileContent)"
   ]
  },
  {
   "cell_type": "code",
   "execution_count": 17,
   "id": "6f20deef",
   "metadata": {},
   "outputs": [],
   "source": [
    "#The file object is closed, you can verify it by running the following cell:\n",
    "#using 'with' file is closed automatically..."
   ]
  },
  {
   "cell_type": "code",
   "execution_count": 18,
   "id": "baa4aa97",
   "metadata": {},
   "outputs": [],
   "source": [
    "# Verify if the file is closed"
   ]
  },
  {
   "cell_type": "code",
   "execution_count": 19,
   "id": "1d181100",
   "metadata": {},
   "outputs": [
    {
     "data": {
      "text/plain": [
       "True"
      ]
     },
     "execution_count": 19,
     "metadata": {},
     "output_type": "execute_result"
    }
   ],
   "source": [
    "file1.closed"
   ]
  },
  {
   "cell_type": "code",
   "execution_count": 20,
   "id": "5a308ddf",
   "metadata": {},
   "outputs": [],
   "source": [
    "#We can see the info in the file:\n",
    "# See the content of file"
   ]
  },
  {
   "cell_type": "code",
   "execution_count": 21,
   "id": "ae1c7f13",
   "metadata": {},
   "outputs": [
    {
     "name": "stdout",
     "output_type": "stream",
     "text": [
      "This is Line 1\n",
      "This is line 2\n",
      "This is line \n",
      "\n",
      "\n",
      "Hi, My name is Chandni Parmar.\n",
      "I am a student of NPower GTA West A cohort.\n",
      "I am doing Junior Data Analyst Program.\n",
      "I want to transfer my field from Science background to IT. \n",
      "My long term goal is to become Data Scientist.\n"
     ]
    }
   ],
   "source": [
    "print(FileContent)"
   ]
  },
  {
   "cell_type": "code",
   "execution_count": 22,
   "id": "bce33cb3",
   "metadata": {},
   "outputs": [],
   "source": [
    "#We don’t have to read the entire file, for example, we can read the first 4 characters by entering \n",
    "#three as a parameter to the method .read():\n",
    "#means if we need only specific numbers to read in given context"
   ]
  },
  {
   "cell_type": "code",
   "execution_count": 23,
   "id": "33aedd2f",
   "metadata": {},
   "outputs": [],
   "source": [
    "# Read first four characters or whatever you want..here i used first 60 characters...."
   ]
  },
  {
   "cell_type": "code",
   "execution_count": 24,
   "id": "3c7539cb",
   "metadata": {},
   "outputs": [
    {
     "name": "stdout",
     "output_type": "stream",
     "text": [
      "This is Line 1\n",
      "This is line 2\n",
      "This is line \n",
      "\n",
      "\n",
      "Hi, My name is\n"
     ]
    }
   ],
   "source": [
    "with open(example1, \"r\") as file1:\n",
    "    print (file1.read(60))\n",
    "    "
   ]
  },
  {
   "cell_type": "code",
   "execution_count": 25,
   "id": "6da3399b",
   "metadata": {},
   "outputs": [],
   "source": [
    "#Once the method .read(4) is called the first 4 characters are called. \n",
    "#If we call the method again, the next 4 characters are called. The output for the following cell \n",
    "#will demonstrate the process for different inputs to the method read():"
   ]
  },
  {
   "cell_type": "code",
   "execution_count": 26,
   "id": "fd146554",
   "metadata": {},
   "outputs": [],
   "source": [
    "# Read certain amount of characters"
   ]
  },
  {
   "cell_type": "code",
   "execution_count": 27,
   "id": "c7ccef0a",
   "metadata": {},
   "outputs": [
    {
     "name": "stdout",
     "output_type": "stream",
     "text": [
      "This\n",
      " is Line 1\n",
      "This\n",
      " is line 2\n",
      "This is line \n",
      "\n",
      "\n",
      "\n",
      "Hi, My name is Chandni Parmar.\n",
      "I am a student of NPower GTA West A cohort.\n",
      "I am\n"
     ]
    }
   ],
   "source": [
    "with open (example1, \"r\") as file1:\n",
    "    print(file1.read(4))\n",
    "    print(file1.read(15))\n",
    "    print(file1.read(25))\n",
    "    print(file1.read(81))"
   ]
  },
  {
   "cell_type": "code",
   "execution_count": 28,
   "id": "bbfe0a67",
   "metadata": {},
   "outputs": [],
   "source": [
    "#Here is an example using the same file, but instead we read 15, 5, and then 9 characters at a time:"
   ]
  },
  {
   "cell_type": "code",
   "execution_count": 29,
   "id": "c4eebb14",
   "metadata": {},
   "outputs": [],
   "source": [
    "# Read certain amount of characters"
   ]
  },
  {
   "cell_type": "code",
   "execution_count": 30,
   "id": "5c116a1d",
   "metadata": {},
   "outputs": [
    {
     "name": "stdout",
     "output_type": "stream",
     "text": [
      "This is Line 1\n",
      "\n",
      "This \n",
      "is line 2\n"
     ]
    }
   ],
   "source": [
    "with open (example1, \"r\") as file1:\n",
    "    print(file1.read(15))\n",
    "    print(file1.read(5))\n",
    "    print(file1.read(9))"
   ]
  },
  {
   "cell_type": "code",
   "execution_count": 31,
   "id": "773ffc83",
   "metadata": {},
   "outputs": [],
   "source": [
    "#We can also read one line of the file at a time using the method readline():"
   ]
  },
  {
   "cell_type": "code",
   "execution_count": 32,
   "id": "c0b9c666",
   "metadata": {},
   "outputs": [],
   "source": [
    "# Read one line"
   ]
  },
  {
   "cell_type": "code",
   "execution_count": 33,
   "id": "30d8e0c7",
   "metadata": {},
   "outputs": [
    {
     "name": "stdout",
     "output_type": "stream",
     "text": [
      "first line: This is Line 1\n",
      "\n"
     ]
    }
   ],
   "source": [
    "with open (example1, \"r\") as file1:\n",
    "    print(\"first line: \" + file1.readline())"
   ]
  },
  {
   "cell_type": "code",
   "execution_count": 34,
   "id": "c58c7be1",
   "metadata": {},
   "outputs": [],
   "source": [
    "#We can also pass an argument to  readline()  to specify the number of charecters we want to read. \n",
    "#However, unlike  read(),  readline() can only read one line at most."
   ]
  },
  {
   "cell_type": "code",
   "execution_count": 35,
   "id": "38c88542",
   "metadata": {},
   "outputs": [
    {
     "name": "stdout",
     "output_type": "stream",
     "text": [
      "This is Line 1\n",
      "\n",
      "This is line 2\n",
      "This\n"
     ]
    }
   ],
   "source": [
    "with open (example1, \"r\") as file1:\n",
    "    print(file1.readline(14)) # does not read past the end of line, means after first line , no output\n",
    "    print(file1.read(20)) # Returns the next 20 characters"
   ]
  },
  {
   "cell_type": "code",
   "execution_count": 36,
   "id": "24be734c",
   "metadata": {},
   "outputs": [],
   "source": [
    "#We can use a loop to iterate through each line:"
   ]
  },
  {
   "cell_type": "code",
   "execution_count": 37,
   "id": "f07c72ac",
   "metadata": {},
   "outputs": [],
   "source": [
    "# Iterate through the lines"
   ]
  },
  {
   "cell_type": "code",
   "execution_count": 38,
   "id": "097fbc93",
   "metadata": {},
   "outputs": [
    {
     "name": "stdout",
     "output_type": "stream",
     "text": [
      "Iteration 0 : This is Line 1\n",
      "\n",
      "Iteration 1 : This is line 2\n",
      "\n",
      "Iteration 2 : This is line \n",
      "\n",
      "Iteration 3 : \n",
      "\n",
      "Iteration 4 : \n",
      "\n",
      "Iteration 5 : Hi, My name is Chandni Parmar.\n",
      "\n",
      "Iteration 6 : I am a student of NPower GTA West A cohort.\n",
      "\n",
      "Iteration 7 : I am doing Junior Data Analyst Program.\n",
      "\n",
      "Iteration 8 : I want to transfer my field from Science background to IT. \n",
      "\n",
      "Iteration 9 : My long term goal is to become Data Scientist.\n"
     ]
    }
   ],
   "source": [
    "with open(example1, \"r\") as file1:\n",
    "    i = 0;\n",
    "    for line in file1:\n",
    "        print(\"Iteration\", str(i), \":\", line)\n",
    "        i = i + 1"
   ]
  },
  {
   "cell_type": "code",
   "execution_count": 39,
   "id": "c1034418",
   "metadata": {},
   "outputs": [],
   "source": [
    "# Read all lines and save as a list"
   ]
  },
  {
   "cell_type": "code",
   "execution_count": 40,
   "id": "0ca122f0",
   "metadata": {},
   "outputs": [],
   "source": [
    "with open(example1, \"r\") as file1:\n",
    "    FileasList = file1.readlines()"
   ]
  },
  {
   "cell_type": "code",
   "execution_count": 41,
   "id": "ec792615",
   "metadata": {},
   "outputs": [
    {
     "data": {
      "text/plain": [
       "'This is Line 1\\n'"
      ]
     },
     "execution_count": 41,
     "metadata": {},
     "output_type": "execute_result"
    }
   ],
   "source": [
    "# Print the first line\n",
    "\n",
    "FileasList[0]"
   ]
  },
  {
   "cell_type": "code",
   "execution_count": 42,
   "id": "d7e4145a",
   "metadata": {},
   "outputs": [
    {
     "data": {
      "text/plain": [
       "'My long term goal is to become Data Scientist.'"
      ]
     },
     "execution_count": 42,
     "metadata": {},
     "output_type": "execute_result"
    }
   ],
   "source": [
    "# Print the anyother line\n",
    "\n",
    "FileasList[9]"
   ]
  },
  {
   "cell_type": "code",
   "execution_count": null,
   "id": "bad32b18",
   "metadata": {},
   "outputs": [],
   "source": []
  }
 ],
 "metadata": {
  "kernelspec": {
   "display_name": "Python 3 (ipykernel)",
   "language": "python",
   "name": "python3"
  },
  "language_info": {
   "codemirror_mode": {
    "name": "ipython",
    "version": 3
   },
   "file_extension": ".py",
   "mimetype": "text/x-python",
   "name": "python",
   "nbconvert_exporter": "python",
   "pygments_lexer": "ipython3",
   "version": "3.9.7"
  }
 },
 "nbformat": 4,
 "nbformat_minor": 5
}
